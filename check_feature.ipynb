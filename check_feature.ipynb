{
 "cells": [
  {
   "cell_type": "code",
   "execution_count": 1,
   "metadata": {},
   "outputs": [
    {
     "name": "stdout",
     "output_type": "stream",
     "text": [
      "<class 'collections.defaultdict'>\n",
      "defaultdict(<class 'list'>, {'text': tensor([[-0.0519,  0.0218, -0.0323,  ..., -0.0029,  0.0043,  0.0099],\n",
      "        [ 0.0137,  0.0209,  0.0112,  ..., -0.0079,  0.0351,  0.0423],\n",
      "        [-0.0294, -0.0207,  0.0056,  ..., -0.0165, -0.0204,  0.0076],\n",
      "        ...,\n",
      "        [-0.0324, -0.0409, -0.0086,  ...,  0.0592, -0.0252, -0.0212],\n",
      "        [ 0.0299, -0.0258, -0.0415,  ...,  0.0584, -0.0136, -0.0010],\n",
      "        [-0.0473, -0.0015, -0.0024,  ..., -0.0256,  0.0532,  0.0555]]), 'image': tensor([[ 1.0110e-02,  1.7464e-02,  1.3675e-02,  ...,  9.6473e-05,\n",
      "         -1.2434e-02,  5.3833e-02],\n",
      "        [ 1.4860e-03,  2.7205e-02,  1.7839e-02,  ..., -1.0722e-02,\n",
      "         -8.7208e-03,  5.4406e-02],\n",
      "        [ 9.9847e-03,  1.9981e-02,  1.8877e-02,  ..., -3.4224e-03,\n",
      "         -1.2911e-02,  5.1552e-02],\n",
      "        ...,\n",
      "        [ 8.2773e-03,  2.6085e-02,  1.4480e-02,  ..., -1.1157e-04,\n",
      "         -1.3286e-02,  5.3213e-02],\n",
      "        [ 8.3211e-03,  2.0570e-02,  1.4772e-02,  ..., -1.0170e-03,\n",
      "         -1.0431e-02,  5.3643e-02],\n",
      "        [ 8.2935e-03,  2.4486e-02,  1.5916e-02,  ..., -8.0743e-03,\n",
      "         -1.9582e-03,  5.8764e-02]])})\n",
      "Shape of text features: torch.Size([806, 768])\n",
      "Shape of image features: torch.Size([806, 768])\n"
     ]
    }
   ],
   "source": [
    "import torch\n",
    "\n",
    "cached_features_path = \"/data/jyh/mmicl/assets/cached_features_full_understand\"  # 替换为你的实际路径\n",
    "features = torch.load(cached_features_path)\n",
    "\n",
    "# 查看 features 的内容\n",
    "print(type(features))  # 先检查数据类型\n",
    "print(features)\n",
    "\n",
    "# 查看特定键对应的特征的形状\n",
    "for key in features:\n",
    "    print(f\"Shape of {key} features:\", features[key].shape)"
   ]
  },
  {
   "cell_type": "code",
   "execution_count": 2,
   "metadata": {},
   "outputs": [
    {
     "name": "stdout",
     "output_type": "stream",
     "text": [
      "Features saved as JSON to /data/jyh/mmicl/assets/cached_features_full_understand.json\n"
     ]
    }
   ],
   "source": [
    "import torch\n",
    "import json\n",
    "\n",
    "cached_features_path = \"/data/jyh/mmicl/assets/cached_features_full_understand\"  # 替换为你的实际路径\n",
    "json_output_path = \"/data/jyh/mmicl/assets/cached_features_full_understand.json\"  # 目标 JSON 文件路径\n",
    "\n",
    "# 加载已缓存的特征\n",
    "features = torch.load(cached_features_path)\n",
    "\n",
    "# 处理 Tensor 类型数据\n",
    "def tensor_to_list(obj):\n",
    "    if isinstance(obj, torch.Tensor):\n",
    "        return obj.tolist()  # 转换为 Python 列表\n",
    "    elif isinstance(obj, dict):\n",
    "        return {key: tensor_to_list(value) for key, value in obj.items()}  # 递归处理字典\n",
    "    elif isinstance(obj, list):\n",
    "        return [tensor_to_list(item) for item in obj]  # 递归处理列表\n",
    "    else:\n",
    "        return obj  # 其他类型保持不变\n",
    "\n",
    "# 转换数据\n",
    "features_json = tensor_to_list(features)\n",
    "\n",
    "# 保存为 JSON 文件\n",
    "with open(json_output_path, \"w\", encoding=\"utf-8\") as f:\n",
    "    json.dump(features_json, f, indent=4)\n",
    "\n",
    "print(f\"Features saved as JSON to {json_output_path}\")\n"
   ]
  }
 ],
 "metadata": {
  "kernelspec": {
   "display_name": "mmicl",
   "language": "python",
   "name": "python3"
  },
  "language_info": {
   "codemirror_mode": {
    "name": "ipython",
    "version": 3
   },
   "file_extension": ".py",
   "mimetype": "text/x-python",
   "name": "python",
   "nbconvert_exporter": "python",
   "pygments_lexer": "ipython3",
   "version": "3.11.7"
  }
 },
 "nbformat": 4,
 "nbformat_minor": 2
}
